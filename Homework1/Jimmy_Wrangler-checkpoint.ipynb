{
 "cells": [
  {
   "cell_type": "code",
   "execution_count": null,
   "metadata": {},
   "outputs": [],
   "source": [
    "# First things first, import pandas library\n",
    "\n",
    "import pandas as pd"
   ]
  },
  {
   "cell_type": "code",
   "execution_count": null,
   "metadata": {},
   "outputs": [],
   "source": [
    "# Next, read in the excel sheet.  The data in the sheet will be split among 4 different data frames\n",
    "# The first dataframe contains the most popular major selections of all graduates\n",
    "# The second dataframe contains the most popular major selections of all male graduates\n",
    "# The third dataframe contains the most popular major selections of all female graduates\n",
    "# The fourth dataframe contains the unemployment rate among the most popular major selections of all graduates\n",
    "\n",
    "df1 = pd.read_excel('C:\\\\Users\\\\Ronald\\\\Documents\\\\college-majors\\\\recent-grads.xlsx', 0, usecols=[3], na_values=['NA']).iloc[:30]\n",
    "df2 = pd.read_excel('C:\\\\Users\\\\Ronald\\\\Documents\\\\college-majors\\\\recent-grads.xlsx', 0, usecols=[4], na_values=['NA']).iloc[:30]\n",
    "df3 = pd.read_excel('C:\\\\Users\\\\Ronald\\\\Documents\\\\college-majors\\\\recent-grads.xlsx', 0, usecols=[5], na_values=['NA']).iloc[:30]\n",
    "df4 = pd.read_excel('C:\\\\Users\\\\Ronald\\\\Documents\\\\college-majors\\\\recent-grads.xlsx', 0, usecols=[14], na_values=['NA']).iloc[:30]"
   ]
  },
  {
   "cell_type": "code",
   "execution_count": null,
   "metadata": {},
   "outputs": [],
   "source": [
    "# Next, create bar plots for each of the 4 dataframes, labeling the horizontalaxis \"Major\"  \n",
    "# and the vertical axis \"Number of Graduates\"\n",
    "\n",
    "ax1 = df1.plot.bar(x=None, y=None, rot=0)\n",
    "ax1.set_ylim(0,130000)\n",
    "ax1.set_xlabel(\"Major\")\n",
    "ax1.set_ylabel(\"Number of Graduates\")\n",
    "\n",
    "ax2 = df2.plot.bar(x=None, y=None, rot=0)\n",
    "ax2.set_xlabel(\"Major\")\n",
    "ax2.set_ylabel(\"Number of Graduates\")\n",
    "\n",
    "ax3 = df3.plot.bar(x=None, y=None, rot=0)\n",
    "ax3.set_xlabel(\"Major\")\n",
    "ax3.set_ylabel(\"Number of Graduates\")\n",
    "\n",
    "ax4 = df4.plot.bar(x=None, y=None, rot=0)\n",
    "ax4.set_xlabel(\"Major\")\n",
    "ax4.set_ylabel(\"Unemployment Rate\")"
   ]
  },
  {
   "cell_type": "code",
   "execution_count": null,
   "metadata": {},
   "outputs": [],
   "source": [
    "# Finally, save the plots and export them to separate pdf files\n",
    "\n",
    "fig1 = ax1.get_figure()\n",
    "fig1.savefig(\"total.pdf\")\n",
    "\n",
    "fig2 = ax2.get_figure()\n",
    "fig2.savefig(\"men.pdf\")\n",
    "\n",
    "fig3 = ax3.get_figure()\n",
    "fig3.savefig(\"women.pdf\")\n",
    "\n",
    "fig4 = ax4.get_figure()\n",
    "fig4.savefig(\"unemployment.pdf\")"
   ]
  }
 ],
 "metadata": {
  "kernelspec": {
   "display_name": "Python 3",
   "language": "python",
   "name": "python3"
  },
  "language_info": {
   "codemirror_mode": {
    "name": "ipython",
    "version": 3
   },
   "file_extension": ".py",
   "mimetype": "text/x-python",
   "name": "python",
   "nbconvert_exporter": "python",
   "pygments_lexer": "ipython3",
   "version": "3.6.5"
  }
 },
 "nbformat": 4,
 "nbformat_minor": 2
}
