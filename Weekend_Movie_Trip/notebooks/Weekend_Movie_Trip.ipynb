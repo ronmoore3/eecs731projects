{
 "cells": [
  {
   "cell_type": "code",
   "execution_count": 1,
   "metadata": {},
   "outputs": [],
   "source": [
    "# load data frames into pandas\n",
    "import pandas as pd\n",
    "import numpy as np\n",
    "import matplotlib.pyplot as plt\n",
    "\n",
    "tags = pd.read_csv(\"C:\\\\Users\\\\Ronald\\\\Documents\\\\EECS_731\\\\Homework3\\\\ml-latest-small\\\\tags.csv\") \n",
    "ratings = pd.read_csv(\"C:\\\\Users\\\\Ronald\\\\Documents\\\\EECS_731\\\\Homework3\\\\ml-latest-small\\\\ratings.csv\")\n",
    "movies = pd.read_csv(\"C:\\\\Users\\\\Ronald\\\\Documents\\\\EECS_731\\\\Homework3\\\\ml-latest-small\\\\movies.csv\")\n",
    "\n",
    "# print(tags)"
   ]
  },
  {
   "cell_type": "code",
   "execution_count": 2,
   "metadata": {},
   "outputs": [],
   "source": [
    "# print(ratings)"
   ]
  },
  {
   "cell_type": "code",
   "execution_count": 3,
   "metadata": {},
   "outputs": [],
   "source": [
    "# organize tags and ratings dfs\n",
    "# this shows that there are multiple tags with same movie\n",
    "# need to merge tags with same movies\n",
    "tags = tags.sort_values(by=['userId', 'movieId'])\n",
    "\n",
    "# merge tags with same movies\n",
    "tags = tags.groupby(['userId','movieId'])['tag'].apply(', '.join).reset_index()\n",
    "# print(tags)\n",
    "\n",
    "ratings = ratings.sort_values(by=['userId', 'movieId'])\n",
    "# print(ratings)"
   ]
  },
  {
   "cell_type": "code",
   "execution_count": 4,
   "metadata": {},
   "outputs": [],
   "source": [
    "# need userIds, movieIds, and tags from tags dataframe\n",
    "# need userIds, movieIds, and ratings from ratings dataframe\n",
    "# need to keep movies in ratings df that have tags in tags\n",
    "# get rid of userIds in ratings dataframe that are not found in tags dataframes\n",
    "# need tuples to achieve this\n",
    "tags_um = list(zip(tags.userId, tags.movieId))\n",
    "ratings_um = list(zip(ratings.userId, ratings.movieId))\n",
    "tags['userMovie'] = list(zip(tags.userId, tags.movieId))\n",
    "ratings['userMovie'] = list(zip(ratings.userId, ratings.movieId))\n",
    "# print(tags)"
   ]
  },
  {
   "cell_type": "code",
   "execution_count": 5,
   "metadata": {},
   "outputs": [],
   "source": [
    "# print(ratings)"
   ]
  },
  {
   "cell_type": "code",
   "execution_count": 6,
   "metadata": {},
   "outputs": [],
   "source": [
    "# get rid of ratings of movies that do not have a tag given by user\n",
    "condition1 = ratings['userMovie'].map(lambda x: x in tags_um and x in ratings_um)\n",
    "ratings = ratings[condition1].reset_index(drop=True)\n",
    "# print(ratings)"
   ]
  },
  {
   "cell_type": "code",
   "execution_count": 7,
   "metadata": {},
   "outputs": [],
   "source": [
    "# tags dataframe still larger, need to trim\n",
    "condition2 = tags['userMovie'].map(lambda x: x in tags_um and x in ratings_um)\n",
    "tags = tags[condition2].reset_index(drop=True)\n",
    "# print(tags)"
   ]
  },
  {
   "cell_type": "code",
   "execution_count": 8,
   "metadata": {},
   "outputs": [
    {
     "data": {
      "text/html": [
       "<div>\n",
       "<style scoped>\n",
       "    .dataframe tbody tr th:only-of-type {\n",
       "        vertical-align: middle;\n",
       "    }\n",
       "\n",
       "    .dataframe tbody tr th {\n",
       "        vertical-align: top;\n",
       "    }\n",
       "\n",
       "    .dataframe thead th {\n",
       "        text-align: right;\n",
       "    }\n",
       "</style>\n",
       "<table border=\"1\" class=\"dataframe\">\n",
       "  <thead>\n",
       "    <tr style=\"text-align: right;\">\n",
       "      <th></th>\n",
       "      <th>userId</th>\n",
       "      <th>movieId</th>\n",
       "      <th>tag</th>\n",
       "      <th>userMovie</th>\n",
       "      <th>rating</th>\n",
       "      <th>timestamp</th>\n",
       "    </tr>\n",
       "  </thead>\n",
       "  <tbody>\n",
       "    <tr>\n",
       "      <th>0</th>\n",
       "      <td>2</td>\n",
       "      <td>60756</td>\n",
       "      <td>funny, Highly quotable, will ferrell</td>\n",
       "      <td>(2, 60756)</td>\n",
       "      <td>5.0</td>\n",
       "      <td>1445714980</td>\n",
       "    </tr>\n",
       "    <tr>\n",
       "      <th>1</th>\n",
       "      <td>2</td>\n",
       "      <td>89774</td>\n",
       "      <td>Boxing story, MMA, Tom Hardy</td>\n",
       "      <td>(2, 89774)</td>\n",
       "      <td>5.0</td>\n",
       "      <td>1445715189</td>\n",
       "    </tr>\n",
       "    <tr>\n",
       "      <th>2</th>\n",
       "      <td>2</td>\n",
       "      <td>106782</td>\n",
       "      <td>drugs, Leonardo DiCaprio, Martin Scorsese</td>\n",
       "      <td>(2, 106782)</td>\n",
       "      <td>5.0</td>\n",
       "      <td>1445714966</td>\n",
       "    </tr>\n",
       "    <tr>\n",
       "      <th>3</th>\n",
       "      <td>7</td>\n",
       "      <td>48516</td>\n",
       "      <td>way too long</td>\n",
       "      <td>(7, 48516)</td>\n",
       "      <td>1.0</td>\n",
       "      <td>1169687318</td>\n",
       "    </tr>\n",
       "    <tr>\n",
       "      <th>4</th>\n",
       "      <td>18</td>\n",
       "      <td>431</td>\n",
       "      <td>Al Pacino, gangster, mafia</td>\n",
       "      <td>(18, 431)</td>\n",
       "      <td>4.0</td>\n",
       "      <td>1462138790</td>\n",
       "    </tr>\n",
       "  </tbody>\n",
       "</table>\n",
       "</div>"
      ],
      "text/plain": [
       "   userId  movieId                                        tag    userMovie  \\\n",
       "0       2    60756       funny, Highly quotable, will ferrell   (2, 60756)   \n",
       "1       2    89774               Boxing story, MMA, Tom Hardy   (2, 89774)   \n",
       "2       2   106782  drugs, Leonardo DiCaprio, Martin Scorsese  (2, 106782)   \n",
       "3       7    48516                               way too long   (7, 48516)   \n",
       "4      18      431                 Al Pacino, gangster, mafia    (18, 431)   \n",
       "\n",
       "   rating   timestamp  \n",
       "0     5.0  1445714980  \n",
       "1     5.0  1445715189  \n",
       "2     5.0  1445714966  \n",
       "3     1.0  1169687318  \n",
       "4     4.0  1462138790  "
      ]
     },
     "execution_count": 8,
     "metadata": {},
     "output_type": "execute_result"
    }
   ],
   "source": [
    "# merge two ratings and timestamp from ratings df with tags df in new df\n",
    "ratings_tags = tags\n",
    "ratings_tags['rating'] = ratings['rating']\n",
    "ratings_tags['timestamp'] = ratings['timestamp']\n",
    "ratings_tags.reset_index(drop=True)\n",
    "ratings_tags.head()"
   ]
  },
  {
   "cell_type": "code",
   "execution_count": 9,
   "metadata": {},
   "outputs": [],
   "source": [
    "# need to encode tag values, but will prove difficult due to the wide variance of the phrases in tags\n",
    "# best solution for now is to scroll through data set and see what words or phrases seem to appear \n",
    "# most throughout tags column"
   ]
  },
  {
   "cell_type": "code",
   "execution_count": 10,
   "metadata": {},
   "outputs": [
    {
     "data": {
      "text/html": [
       "<div>\n",
       "<style scoped>\n",
       "    .dataframe tbody tr th:only-of-type {\n",
       "        vertical-align: middle;\n",
       "    }\n",
       "\n",
       "    .dataframe tbody tr th {\n",
       "        vertical-align: top;\n",
       "    }\n",
       "\n",
       "    .dataframe thead th {\n",
       "        text-align: right;\n",
       "    }\n",
       "</style>\n",
       "<table border=\"1\" class=\"dataframe\">\n",
       "  <thead>\n",
       "    <tr style=\"text-align: right;\">\n",
       "      <th></th>\n",
       "      <th>userId</th>\n",
       "      <th>movieId</th>\n",
       "      <th>tag</th>\n",
       "      <th>userMovie</th>\n",
       "      <th>rating</th>\n",
       "      <th>timestamp</th>\n",
       "      <th>tag_code</th>\n",
       "    </tr>\n",
       "  </thead>\n",
       "  <tbody>\n",
       "    <tr>\n",
       "      <th>0</th>\n",
       "      <td>2</td>\n",
       "      <td>60756</td>\n",
       "      <td>funny, Highly quotable, will ferrell</td>\n",
       "      <td>(2, 60756)</td>\n",
       "      <td>5.0</td>\n",
       "      <td>1445714980</td>\n",
       "      <td>1</td>\n",
       "    </tr>\n",
       "    <tr>\n",
       "      <th>1</th>\n",
       "      <td>2</td>\n",
       "      <td>89774</td>\n",
       "      <td>Boxing story, MMA, Tom Hardy</td>\n",
       "      <td>(2, 89774)</td>\n",
       "      <td>5.0</td>\n",
       "      <td>1445715189</td>\n",
       "      <td>10</td>\n",
       "    </tr>\n",
       "    <tr>\n",
       "      <th>2</th>\n",
       "      <td>2</td>\n",
       "      <td>106782</td>\n",
       "      <td>drugs, Leonardo DiCaprio, Martin Scorsese</td>\n",
       "      <td>(2, 106782)</td>\n",
       "      <td>5.0</td>\n",
       "      <td>1445714966</td>\n",
       "      <td>6</td>\n",
       "    </tr>\n",
       "    <tr>\n",
       "      <th>3</th>\n",
       "      <td>7</td>\n",
       "      <td>48516</td>\n",
       "      <td>way too long</td>\n",
       "      <td>(7, 48516)</td>\n",
       "      <td>1.0</td>\n",
       "      <td>1169687318</td>\n",
       "      <td>10</td>\n",
       "    </tr>\n",
       "    <tr>\n",
       "      <th>4</th>\n",
       "      <td>18</td>\n",
       "      <td>431</td>\n",
       "      <td>Al Pacino, gangster, mafia</td>\n",
       "      <td>(18, 431)</td>\n",
       "      <td>4.0</td>\n",
       "      <td>1462138790</td>\n",
       "      <td>6</td>\n",
       "    </tr>\n",
       "  </tbody>\n",
       "</table>\n",
       "</div>"
      ],
      "text/plain": [
       "   userId  movieId                                        tag    userMovie  \\\n",
       "0       2    60756       funny, Highly quotable, will ferrell   (2, 60756)   \n",
       "1       2    89774               Boxing story, MMA, Tom Hardy   (2, 89774)   \n",
       "2       2   106782  drugs, Leonardo DiCaprio, Martin Scorsese  (2, 106782)   \n",
       "3       7    48516                               way too long   (7, 48516)   \n",
       "4      18      431                 Al Pacino, gangster, mafia    (18, 431)   \n",
       "\n",
       "   rating   timestamp  tag_code  \n",
       "0     5.0  1445714980         1  \n",
       "1     5.0  1445715189        10  \n",
       "2     5.0  1445714966         6  \n",
       "3     1.0  1169687318        10  \n",
       "4     4.0  1462138790         6  "
      ]
     },
     "execution_count": 10,
     "metadata": {},
     "output_type": "execute_result"
    }
   ],
   "source": [
    "# encode tags based on recoccuring phrases in tags\n",
    "\n",
    "d = {'funny': 1, 'comedy': 1, 'hilarious': 1, 'stiller': 1, 'ferrell': 1, 'carell': 1, 'rogen': 1, 'horror': 2, 'creepy': 2, \n",
    "     'scary': 2, 'thriller': 2, 'twist': 3, 'suspense': 3, 'tarantino': 3, 'action': 3, 'adventure': 3, 'sci-fi': 4, 'scifi': 4,\n",
    "     'star wars': 4, 'aliens': 4, 'space': 4, 'robots': 4, 'drama': 5, 'violence': 6, 'drugs': 6, 'mafia': 6, 'de niro': 6,\n",
    "     'pacino': 6,'fantasy': 7, 'family': 7, 'animation': 7, 'children': 7, 'pixar': 7, 'cartoon': 7, 'disney': 7,\n",
    "     'chick flick': 8, 'romance': 8, 'romantic': 8, 'dc': 9, 'marvel': 9, 'superhero': 9, 'superman': 9, 'wonderwoman': 9, \n",
    "     'batman': 9, 'comic': 9, 'comics': 9}\n",
    "\n",
    "tag_list = ratings_tags['tag'].tolist()\n",
    "tag_code = []\n",
    "for i in range(len(tag_list)):\n",
    "       tag_code.append(10)\n",
    "key_count = 0\n",
    "def_count = 0\n",
    "i = 0\n",
    "for tag in tag_list:\n",
    "    for key in d.keys():\n",
    "        if key in tag.lower():\n",
    "            tag_code[i] = d.get(key)\n",
    "            break\n",
    "    i = i + 1\n",
    "\n",
    "# add tags_code to ratings_tags df\n",
    "ratings_tags['tag_code'] = tag_code\n",
    "ratings_tags.to_csv(\"C:\\\\Users\\\\Ronald\\\\Documents\\\\EECS_731\\\\Homework3\\\\ml-latest-small\\\\model_data.csv\")\n",
    "ratings_tags.head()"
   ]
  },
  {
   "cell_type": "code",
   "execution_count": 11,
   "metadata": {},
   "outputs": [
    {
     "data": {
      "text/plain": [
       "Text(0.5,1,'K Means N = 2')"
      ]
     },
     "execution_count": 11,
     "metadata": {},
     "output_type": "execute_result"
    },
    {
     "data": {
      "image/png": "[encoded data removed]",
      "text/plain": [
       "<Figure size 432x288 with 1 Axes>"
      ]
     },
     "metadata": {},
     "output_type": "display_data"
    }
   ],
   "source": [
    "# build KMeans model now that data has been properly cleaned through feature engineering\n",
    "\n",
    "from sklearn.cluster import KMeans\n",
    "\n",
    "X = ratings_tags[['tag_code', 'rating']].values\n",
    "\n",
    "# choose different values for number of clusters\n",
    "kmeans1 = KMeans(n_clusters=3).fit(X)\n",
    "kmeans2 = KMeans(n_clusters=4).fit(X)\n",
    "kmeans3 = KMeans(n_clusters=5).fit(X)\n",
    "kmeans4 = KMeans(n_clusters=6).fit(X)\n",
    "\n",
    "# plot different kmeans\n",
    "colormap1 = ['r', 'y','b']\n",
    "colormap2 = ['r', 'y', 'b', 'g']\n",
    "colormap3 = ['r', 'y', 'b', 'g', 'k']\n",
    "colormap4 = ['r', 'y', 'b', 'g', 'k', 'm']\n",
    "\n",
    "for i in range(len(X)):\n",
    "    plt.scatter(X[i][0], X[i][1], c=colormap1[kmeans1.labels_[i]], s=40)\n",
    "plt.title('K Means N = 2')"
   ]
  },
  {
   "cell_type": "code",
   "execution_count": 12,
   "metadata": {},
   "outputs": [
    {
     "data": {
      "text/plain": [
       "Text(0.5,1,'K Means N = 4')"
      ]
     },
     "execution_count": 12,
     "metadata": {},
     "output_type": "execute_result"
    },
    {
     "data": {
      "image/png": "[encoded data removed]",
      "text/plain": [
       "<Figure size 432x288 with 1 Axes>"
      ]
     },
     "metadata": {},
     "output_type": "display_data"
    }
   ],
   "source": [
    "for i in range(len(X)):\n",
    "    plt.scatter(X[i][0], X[i][1], c=colormap2[kmeans2.labels_[i]], s=40)\n",
    "plt.title('K Means N = 4')"
   ]
  },
  {
   "cell_type": "code",
   "execution_count": 13,
   "metadata": {},
   "outputs": [
    {
     "data": {
      "text/plain": [
       "Text(0.5,1,'K Means N = 5')"
      ]
     },
     "execution_count": 13,
     "metadata": {},
     "output_type": "execute_result"
    },
    {
     "data": {
      "image/png": "[encoded data removed]",
      "text/plain": [
       "<Figure size 432x288 with 1 Axes>"
      ]
     },
     "metadata": {},
     "output_type": "display_data"
    }
   ],
   "source": [
    "for i in range(len(X)):\n",
    "    plt.scatter(X[i][0], X[i][1], c=colormap3[kmeans3.labels_[i]], s=40)\n",
    "plt.title('K Means N = 5')"
   ]
  },
  {
   "cell_type": "code",
   "execution_count": 14,
   "metadata": {},
   "outputs": [
    {
     "data": {
      "text/plain": [
       "Text(0.5,1,'K Means N = 6')"
      ]
     },
     "execution_count": 14,
     "metadata": {},
     "output_type": "execute_result"
    },
    {
     "data": {
      "image/png": "[encoded data removed]",
      "text/plain": [
       "<Figure size 432x288 with 1 Axes>"
      ]
     },
     "metadata": {},
     "output_type": "display_data"
    }
   ],
   "source": [
    "for i in range(len(X)):\n",
    "    plt.scatter(X[i][0], X[i][1], c=colormap4[kmeans4.labels_[i]], s=40)\n",
    "plt.title('K Means N = 6')"
   ]
  },
  {
   "cell_type": "code",
   "execution_count": 15,
   "metadata": {},
   "outputs": [
    {
     "data": {
      "text/plain": [
       "Text(0.5,1,'DBSCAN number of clusters = 2')"
      ]
     },
     "execution_count": 15,
     "metadata": {},
     "output_type": "execute_result"
    },
    {
     "data": {
      "image/png": "[encoded data removed]",
      "text/plain": [
       "<Figure size 432x288 with 1 Axes>"
      ]
     },
     "metadata": {},
     "output_type": "display_data"
    }
   ],
   "source": [
    "# Good separation of features among all levels\n",
    "# See what DBSCAN gives\n",
    "from sklearn.cluster import DBSCAN\n",
    "\n",
    "# played around with values of epsilon and min samples to estimate good samples of clusters\n",
    "# number of clusters found by finding the length of the set of labels - print(len(set(labels)))\n",
    "\n",
    "db1 = DBSCAN(eps=1, min_samples=30).fit(X) # roughly 2 clusters\n",
    "db2 = DBSCAN(eps=.9, min_samples=40).fit(X) # roughly 4 clusters\n",
    "db3 = DBSCAN(eps=.8, min_samples=20).fit(X) # roughly 6 clusters\n",
    "\n",
    "colormap1 = ['r','b']\n",
    "colormap2 = ['r', 'y', 'b', 'g']\n",
    "colormap3 = ['r', 'y', 'b', 'g', 'k', 'm']\n",
    "\n",
    "for i in range(len(X)):\n",
    "    plt.scatter(X[i][0], X[i][1], c=colormap1[db1.labels_[i]], s=40)\n",
    "plt.title('DBSCAN number of clusters = 2')"
   ]
  },
  {
   "cell_type": "code",
   "execution_count": 16,
   "metadata": {},
   "outputs": [
    {
     "data": {
      "text/plain": [
       "Text(0.5,1,'DBSCAN number of clusters = 4')"
      ]
     },
     "execution_count": 16,
     "metadata": {},
     "output_type": "execute_result"
    },
    {
     "data": {
      "image/png": "[encoded data removed]",
      "text/plain": [
       "<Figure size 432x288 with 1 Axes>"
      ]
     },
     "metadata": {},
     "output_type": "display_data"
    }
   ],
   "source": [
    "for i in range(len(X)):\n",
    "    plt.scatter(X[i][0], X[i][1], c=colormap2[db2.labels_[i]], s=40)\n",
    "plt.title('DBSCAN number of clusters = 4')"
   ]
  },
  {
   "cell_type": "code",
   "execution_count": 17,
   "metadata": {},
   "outputs": [
    {
     "data": {
      "text/plain": [
       "Text(0.5,1,'DBSCAN number of clusters = 6')"
      ]
     },
     "execution_count": 17,
     "metadata": {},
     "output_type": "execute_result"
    },
    {
     "data": {
      "image/png": "[encoded data removed]",
      "text/plain": [
       "<Figure size 432x288 with 1 Axes>"
      ]
     },
     "metadata": {},
     "output_type": "display_data"
    }
   ],
   "source": [
    "for i in range(len(X)):\n",
    "    plt.scatter(X[i][0], X[i][1], c=colormap3[db3.labels_[i]], s=40)\n",
    "plt.title('DBSCAN number of clusters = 6')"
   ]
  },
  {
   "cell_type": "code",
   "execution_count": 18,
   "metadata": {},
   "outputs": [],
   "source": [
    "# DBSCAN seems to get better as number of clusters increase\n",
    "\n",
    "# In general, need to find better way to encode tags of users in order to create better clustering models"
   ]
  }
 ],
 "metadata": {
  "kernelspec": {
   "display_name": "Python 3",
   "language": "python",
   "name": "python3"
  },
  "language_info": {
   "codemirror_mode": {
    "name": "ipython",
    "version": 3
   },
   "file_extension": ".py",
   "mimetype": "text/x-python",
   "name": "python",
   "nbconvert_exporter": "python",
   "pygments_lexer": "ipython3",
   "version": "3.6.5"
  }
 },
 "nbformat": 4,
 "nbformat_minor": 2
}
